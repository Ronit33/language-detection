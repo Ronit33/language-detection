{
 "cells": [
  {
   "cell_type": "code",
   "execution_count": 1,
   "id": "b2acdc1c",
   "metadata": {
    "_cell_guid": "b1076dfc-b9ad-4769-8c92-a6c4dae69d19",
    "_uuid": "8f2839f25d086af736a60e9eeb907d3b93b6e0e5",
    "execution": {
     "iopub.execute_input": "2023-08-19T18:08:24.758909Z",
     "iopub.status.busy": "2023-08-19T18:08:24.758275Z",
     "iopub.status.idle": "2023-08-19T18:08:24.787555Z",
     "shell.execute_reply": "2023-08-19T18:08:24.785994Z"
    },
    "papermill": {
     "duration": 0.049199,
     "end_time": "2023-08-19T18:08:24.790724",
     "exception": false,
     "start_time": "2023-08-19T18:08:24.741525",
     "status": "completed"
    },
    "tags": []
   },
   "outputs": [
    {
     "name": "stdout",
     "output_type": "stream",
     "text": [
      "/kaggle/input/language-detection/Language Detection.csv\n"
     ]
    }
   ],
   "source": [
    "# This Python 3 environment comes with many helpful analytics libraries installed\n",
    "# It is defined by the kaggle/python Docker image: https://github.com/kaggle/docker-python\n",
    "# For example, here's several helpful packages to load\n",
    "\n",
    "import numpy as np # linear algebra\n",
    "import pandas as pd # data processing, CSV file I/O (e.g. pd.read_csv)\n",
    "\n",
    "# Input data files are available in the read-only \"../input/\" directory\n",
    "# For example, running this (by clicking run or pressing Shift+Enter) will list all files under the input directory\n",
    "\n",
    "import os\n",
    "for dirname, _, filenames in os.walk('/kaggle/input'):\n",
    "    for filename in filenames:\n",
    "        print(os.path.join(dirname, filename))\n",
    "\n",
    "# You can write up to 20GB to the current directory (/kaggle/working/) that gets preserved as output when you create a version using \"Save & Run All\" \n",
    "# You can also write temporary files to /kaggle/temp/, but they won't be saved outside of the current session"
   ]
  },
  {
   "cell_type": "markdown",
   "id": "e61b1ce2",
   "metadata": {
    "papermill": {
     "duration": 0.01297,
     "end_time": "2023-08-19T18:08:24.817698",
     "exception": false,
     "start_time": "2023-08-19T18:08:24.804728",
     "status": "completed"
    },
    "tags": []
   },
   "source": [
    "# Importing Libraries "
   ]
  },
  {
   "cell_type": "code",
   "execution_count": 2,
   "id": "318c8728",
   "metadata": {
    "execution": {
     "iopub.execute_input": "2023-08-19T18:08:24.849602Z",
     "iopub.status.busy": "2023-08-19T18:08:24.849157Z",
     "iopub.status.idle": "2023-08-19T18:08:26.345773Z",
     "shell.execute_reply": "2023-08-19T18:08:26.344402Z"
    },
    "papermill": {
     "duration": 1.517213,
     "end_time": "2023-08-19T18:08:26.348715",
     "exception": false,
     "start_time": "2023-08-19T18:08:24.831502",
     "status": "completed"
    },
    "tags": []
   },
   "outputs": [
    {
     "name": "stderr",
     "output_type": "stream",
     "text": [
      "/opt/conda/lib/python3.10/site-packages/scipy/__init__.py:146: UserWarning: A NumPy version >=1.16.5 and <1.23.0 is required for this version of SciPy (detected version 1.23.5\n",
      "  warnings.warn(f\"A NumPy version >={np_minversion} and <{np_maxversion}\"\n"
     ]
    }
   ],
   "source": [
    "import pandas as pd\n",
    "import numpy as np\n",
    "import matplotlib.pyplot as plt\n",
    "from sklearn.feature_extraction.text import CountVectorizer\n",
    "from sklearn.preprocessing import LabelEncoder"
   ]
  },
  {
   "cell_type": "code",
   "execution_count": 3,
   "id": "e4873f98",
   "metadata": {
    "execution": {
     "iopub.execute_input": "2023-08-19T18:08:26.379095Z",
     "iopub.status.busy": "2023-08-19T18:08:26.378559Z",
     "iopub.status.idle": "2023-08-19T18:08:26.516551Z",
     "shell.execute_reply": "2023-08-19T18:08:26.515259Z"
    },
    "papermill": {
     "duration": 0.156909,
     "end_time": "2023-08-19T18:08:26.519470",
     "exception": false,
     "start_time": "2023-08-19T18:08:26.362561",
     "status": "completed"
    },
    "tags": []
   },
   "outputs": [
    {
     "data": {
      "text/html": [
       "<div>\n",
       "<style scoped>\n",
       "    .dataframe tbody tr th:only-of-type {\n",
       "        vertical-align: middle;\n",
       "    }\n",
       "\n",
       "    .dataframe tbody tr th {\n",
       "        vertical-align: top;\n",
       "    }\n",
       "\n",
       "    .dataframe thead th {\n",
       "        text-align: right;\n",
       "    }\n",
       "</style>\n",
       "<table border=\"1\" class=\"dataframe\">\n",
       "  <thead>\n",
       "    <tr style=\"text-align: right;\">\n",
       "      <th></th>\n",
       "      <th>Text</th>\n",
       "      <th>Language</th>\n",
       "    </tr>\n",
       "  </thead>\n",
       "  <tbody>\n",
       "    <tr>\n",
       "      <th>6832</th>\n",
       "      <td>hvad har du været op med at rejse dem før, hvi...</td>\n",
       "      <td>Danish</td>\n",
       "    </tr>\n",
       "    <tr>\n",
       "      <th>7243</th>\n",
       "      <td>[37] In una pagina a proposito del fare ricerc...</td>\n",
       "      <td>Italian</td>\n",
       "    </tr>\n",
       "    <tr>\n",
       "      <th>7969</th>\n",
       "      <td>ve bir dar açı, bu keskin açı 90 dereceden az ...</td>\n",
       "      <td>Turkish</td>\n",
       "    </tr>\n",
       "    <tr>\n",
       "      <th>766</th>\n",
       "      <td>It involves computers learning from data provi...</td>\n",
       "      <td>English</td>\n",
       "    </tr>\n",
       "    <tr>\n",
       "      <th>7219</th>\n",
       "      <td>Wikipedia mantiene un approccio ottimistico su...</td>\n",
       "      <td>Italian</td>\n",
       "    </tr>\n",
       "  </tbody>\n",
       "</table>\n",
       "</div>"
      ],
      "text/plain": [
       "                                                   Text Language\n",
       "6832  hvad har du været op med at rejse dem før, hvi...   Danish\n",
       "7243  [37] In una pagina a proposito del fare ricerc...  Italian\n",
       "7969  ve bir dar açı, bu keskin açı 90 dereceden az ...  Turkish\n",
       "766   It involves computers learning from data provi...  English\n",
       "7219  Wikipedia mantiene un approccio ottimistico su...  Italian"
      ]
     },
     "execution_count": 3,
     "metadata": {},
     "output_type": "execute_result"
    }
   ],
   "source": [
    "dataset = pd.read_csv('/kaggle/input/language-detection/Language Detection.csv')\n",
    "dataset.sample(5)"
   ]
  },
  {
   "cell_type": "code",
   "execution_count": 4,
   "id": "27f08e13",
   "metadata": {
    "execution": {
     "iopub.execute_input": "2023-08-19T18:08:26.551357Z",
     "iopub.status.busy": "2023-08-19T18:08:26.550865Z",
     "iopub.status.idle": "2023-08-19T18:08:26.565126Z",
     "shell.execute_reply": "2023-08-19T18:08:26.563380Z"
    },
    "papermill": {
     "duration": 0.033533,
     "end_time": "2023-08-19T18:08:26.567676",
     "exception": false,
     "start_time": "2023-08-19T18:08:26.534143",
     "status": "completed"
    },
    "tags": []
   },
   "outputs": [
    {
     "data": {
      "text/html": [
       "<div>\n",
       "<style scoped>\n",
       "    .dataframe tbody tr th:only-of-type {\n",
       "        vertical-align: middle;\n",
       "    }\n",
       "\n",
       "    .dataframe tbody tr th {\n",
       "        vertical-align: top;\n",
       "    }\n",
       "\n",
       "    .dataframe thead th {\n",
       "        text-align: right;\n",
       "    }\n",
       "</style>\n",
       "<table border=\"1\" class=\"dataframe\">\n",
       "  <thead>\n",
       "    <tr style=\"text-align: right;\">\n",
       "      <th></th>\n",
       "      <th>Text</th>\n",
       "      <th>Language</th>\n",
       "    </tr>\n",
       "  </thead>\n",
       "  <tbody>\n",
       "    <tr>\n",
       "      <th>1481</th>\n",
       "      <td>ലേഖനത്തിനു ആവശ്യമായ ചിത്രങ്ങളും ചേർക്കുമ്പോൾ വ...</td>\n",
       "      <td>Malayalam</td>\n",
       "    </tr>\n",
       "    <tr>\n",
       "      <th>426</th>\n",
       "      <td>Since Wikipedia is based on the Web and theref...</td>\n",
       "      <td>English</td>\n",
       "    </tr>\n",
       "    <tr>\n",
       "      <th>9187</th>\n",
       "      <td>مرحباً ، لماذا لا تتسكع معنا ، يمكنك أن تقول ل...</td>\n",
       "      <td>Arabic</td>\n",
       "    </tr>\n",
       "    <tr>\n",
       "      <th>9646</th>\n",
       "      <td>Kannst du das wiederholen?.</td>\n",
       "      <td>German</td>\n",
       "    </tr>\n",
       "    <tr>\n",
       "      <th>8873</th>\n",
       "      <td>Jag skulle hellre att du inte gjorde det.</td>\n",
       "      <td>Sweedish</td>\n",
       "    </tr>\n",
       "  </tbody>\n",
       "</table>\n",
       "</div>"
      ],
      "text/plain": [
       "                                                   Text   Language\n",
       "1481  ലേഖനത്തിനു ആവശ്യമായ ചിത്രങ്ങളും ചേർക്കുമ്പോൾ വ...  Malayalam\n",
       "426   Since Wikipedia is based on the Web and theref...    English\n",
       "9187  مرحباً ، لماذا لا تتسكع معنا ، يمكنك أن تقول ل...     Arabic\n",
       "9646                        Kannst du das wiederholen?.     German\n",
       "8873          Jag skulle hellre att du inte gjorde det.   Sweedish"
      ]
     },
     "execution_count": 4,
     "metadata": {},
     "output_type": "execute_result"
    }
   ],
   "source": [
    "df = dataset.copy()\n",
    "df.sample(5)"
   ]
  },
  {
   "cell_type": "code",
   "execution_count": 5,
   "id": "47ed1f83",
   "metadata": {
    "execution": {
     "iopub.execute_input": "2023-08-19T18:08:26.599252Z",
     "iopub.status.busy": "2023-08-19T18:08:26.598671Z",
     "iopub.status.idle": "2023-08-19T18:08:26.607100Z",
     "shell.execute_reply": "2023-08-19T18:08:26.605866Z"
    },
    "papermill": {
     "duration": 0.027874,
     "end_time": "2023-08-19T18:08:26.609535",
     "exception": false,
     "start_time": "2023-08-19T18:08:26.581661",
     "status": "completed"
    },
    "tags": []
   },
   "outputs": [
    {
     "data": {
      "text/plain": [
       "(10337, 2)"
      ]
     },
     "execution_count": 5,
     "metadata": {},
     "output_type": "execute_result"
    }
   ],
   "source": [
    "df.shape"
   ]
  },
  {
   "cell_type": "code",
   "execution_count": 6,
   "id": "5451f4d3",
   "metadata": {
    "execution": {
     "iopub.execute_input": "2023-08-19T18:08:26.640934Z",
     "iopub.status.busy": "2023-08-19T18:08:26.639411Z",
     "iopub.status.idle": "2023-08-19T18:08:26.657542Z",
     "shell.execute_reply": "2023-08-19T18:08:26.655765Z"
    },
    "papermill": {
     "duration": 0.037146,
     "end_time": "2023-08-19T18:08:26.660899",
     "exception": false,
     "start_time": "2023-08-19T18:08:26.623753",
     "status": "completed"
    },
    "tags": []
   },
   "outputs": [
    {
     "data": {
      "text/plain": [
       "English       1385\n",
       "Malayalam      594\n",
       "Hindi           63\n",
       "Tamil          469\n",
       "Portugeese     739\n",
       "French        1014\n",
       "Dutch          546\n",
       "Spanish        819\n",
       "Greek          365\n",
       "Russian        692\n",
       "Danish         428\n",
       "Italian        698\n",
       "Turkish        474\n",
       "Sweedish       676\n",
       "Arabic         536\n",
       "German         470\n",
       "Kannada        369\n",
       "Name: Language, dtype: int64"
      ]
     },
     "execution_count": 6,
     "metadata": {},
     "output_type": "execute_result"
    }
   ],
   "source": [
    "df['Language'].value_counts(sort=False)"
   ]
  },
  {
   "cell_type": "markdown",
   "id": "266dd55f",
   "metadata": {
    "papermill": {
     "duration": 0.013845,
     "end_time": "2023-08-19T18:08:26.689754",
     "exception": false,
     "start_time": "2023-08-19T18:08:26.675909",
     "status": "completed"
    },
    "tags": []
   },
   "source": [
    "# Plotting"
   ]
  },
  {
   "cell_type": "code",
   "execution_count": 7,
   "id": "3b7b6977",
   "metadata": {
    "execution": {
     "iopub.execute_input": "2023-08-19T18:08:26.722346Z",
     "iopub.status.busy": "2023-08-19T18:08:26.721304Z",
     "iopub.status.idle": "2023-08-19T18:08:27.177734Z",
     "shell.execute_reply": "2023-08-19T18:08:27.176350Z"
    },
    "papermill": {
     "duration": 0.476564,
     "end_time": "2023-08-19T18:08:27.180588",
     "exception": false,
     "start_time": "2023-08-19T18:08:26.704024",
     "status": "completed"
    },
    "tags": []
   },
   "outputs": [
    {
     "data": {
      "text/plain": [
       "<BarContainer object of 17 artists>"
      ]
     },
     "execution_count": 7,
     "metadata": {},
     "output_type": "execute_result"
    },
    {
     "data": {
      "image/png": "[encoded data removed]",
      "text/plain": [
       "<Figure size 640x480 with 1 Axes>"
      ]
     },
     "metadata": {},
     "output_type": "display_data"
    }
   ],
   "source": [
    "plt.barh(df['Language'].unique(), df['Language'].value_counts(sort=False).values)"
   ]
  },
  {
   "cell_type": "code",
   "execution_count": 8,
   "id": "65369e99",
   "metadata": {
    "execution": {
     "iopub.execute_input": "2023-08-19T18:08:27.212495Z",
     "iopub.status.busy": "2023-08-19T18:08:27.212012Z",
     "iopub.status.idle": "2023-08-19T18:08:27.230815Z",
     "shell.execute_reply": "2023-08-19T18:08:27.229577Z"
    },
    "papermill": {
     "duration": 0.038197,
     "end_time": "2023-08-19T18:08:27.233667",
     "exception": false,
     "start_time": "2023-08-19T18:08:27.195470",
     "status": "completed"
    },
    "tags": []
   },
   "outputs": [
    {
     "data": {
      "text/plain": [
       "Text        0\n",
       "Language    0\n",
       "dtype: int64"
      ]
     },
     "execution_count": 8,
     "metadata": {},
     "output_type": "execute_result"
    }
   ],
   "source": [
    "df.isnull().sum()"
   ]
  },
  {
   "cell_type": "markdown",
   "id": "39cd7085",
   "metadata": {
    "papermill": {
     "duration": 0.015786,
     "end_time": "2023-08-19T18:08:27.266911",
     "exception": false,
     "start_time": "2023-08-19T18:08:27.251125",
     "status": "completed"
    },
    "tags": []
   },
   "source": [
    "# Train test split"
   ]
  },
  {
   "cell_type": "code",
   "execution_count": 9,
   "id": "d0886345",
   "metadata": {
    "execution": {
     "iopub.execute_input": "2023-08-19T18:08:27.302283Z",
     "iopub.status.busy": "2023-08-19T18:08:27.301750Z",
     "iopub.status.idle": "2023-08-19T18:08:27.441292Z",
     "shell.execute_reply": "2023-08-19T18:08:27.439604Z"
    },
    "papermill": {
     "duration": 0.160661,
     "end_time": "2023-08-19T18:08:27.444310",
     "exception": false,
     "start_time": "2023-08-19T18:08:27.283649",
     "status": "completed"
    },
    "tags": []
   },
   "outputs": [],
   "source": [
    "from sklearn.model_selection import train_test_split"
   ]
  },
  {
   "cell_type": "code",
   "execution_count": 10,
   "id": "51dfb8e9",
   "metadata": {
    "execution": {
     "iopub.execute_input": "2023-08-19T18:08:27.478016Z",
     "iopub.status.busy": "2023-08-19T18:08:27.477561Z",
     "iopub.status.idle": "2023-08-19T18:08:27.487428Z",
     "shell.execute_reply": "2023-08-19T18:08:27.485759Z"
    },
    "papermill": {
     "duration": 0.030674,
     "end_time": "2023-08-19T18:08:27.490673",
     "exception": false,
     "start_time": "2023-08-19T18:08:27.459999",
     "status": "completed"
    },
    "tags": []
   },
   "outputs": [],
   "source": [
    "X_train, X_test, y_train, y_test = train_test_split(df['Text'].values, df['Language'].values, \n",
    "                                                    test_size=0.2,\n",
    "                                                    random_state=42)"
   ]
  },
  {
   "cell_type": "code",
   "execution_count": 11,
   "id": "ba670eef",
   "metadata": {
    "execution": {
     "iopub.execute_input": "2023-08-19T18:08:27.524180Z",
     "iopub.status.busy": "2023-08-19T18:08:27.522696Z",
     "iopub.status.idle": "2023-08-19T18:08:27.530512Z",
     "shell.execute_reply": "2023-08-19T18:08:27.529139Z"
    },
    "papermill": {
     "duration": 0.02741,
     "end_time": "2023-08-19T18:08:27.533242",
     "exception": false,
     "start_time": "2023-08-19T18:08:27.505832",
     "status": "completed"
    },
    "tags": []
   },
   "outputs": [
    {
     "name": "stdout",
     "output_type": "stream",
     "text": [
      "['τώρα αργότερα η Μέλι και ο Τέρι έσπασαν αντίο στον παλιό τους φίλο και πήγαν να χαμογελούν ο ένας στον άλλο κρυφά εκείνο το βράδυ, τόσο μητέρα όσο και κόρη.'\n",
      " 'Améliorez-le ou discutez-en.'] ['И с этими словами она села в его карету, и, даже не попрощавшись с матерью, уехала с ангелом, пока они ехали, карета внезапно вошла в волшебный портал, где она путешествовала по бурной местности, карета сильно ударилась и нарцисса.'\n",
      " 'Sistemi di tipo probabilistico erano invasi di problemi sia teoretici sia pratici in termini di acquisizione e rappresentazione dei dati[10].'] ['Greek' 'French'] ['Russian' 'Italian']\n"
     ]
    }
   ],
   "source": [
    "print(X_train[:2], X_test[:2], y_train[:2], y_test[:2])"
   ]
  },
  {
   "cell_type": "code",
   "execution_count": 12,
   "id": "e075871e",
   "metadata": {
    "execution": {
     "iopub.execute_input": "2023-08-19T18:08:27.566924Z",
     "iopub.status.busy": "2023-08-19T18:08:27.566515Z",
     "iopub.status.idle": "2023-08-19T18:08:27.573513Z",
     "shell.execute_reply": "2023-08-19T18:08:27.572315Z"
    },
    "papermill": {
     "duration": 0.027678,
     "end_time": "2023-08-19T18:08:27.576549",
     "exception": false,
     "start_time": "2023-08-19T18:08:27.548871",
     "status": "completed"
    },
    "tags": []
   },
   "outputs": [
    {
     "data": {
      "text/plain": [
       "((8269,), (8269,), (2068,), (2068,))"
      ]
     },
     "execution_count": 12,
     "metadata": {},
     "output_type": "execute_result"
    }
   ],
   "source": [
    "X_train.shape, y_train.shape, X_test.shape, y_test.shape"
   ]
  },
  {
   "cell_type": "markdown",
   "id": "9967bf31",
   "metadata": {
    "papermill": {
     "duration": 0.015914,
     "end_time": "2023-08-19T18:08:27.610060",
     "exception": false,
     "start_time": "2023-08-19T18:08:27.594146",
     "status": "completed"
    },
    "tags": []
   },
   "source": [
    "# Using Bag of words on text"
   ]
  },
  {
   "cell_type": "code",
   "execution_count": 13,
   "id": "b0a58724",
   "metadata": {
    "execution": {
     "iopub.execute_input": "2023-08-19T18:08:27.642662Z",
     "iopub.status.busy": "2023-08-19T18:08:27.642266Z",
     "iopub.status.idle": "2023-08-19T18:08:27.660086Z",
     "shell.execute_reply": "2023-08-19T18:08:27.658886Z"
    },
    "papermill": {
     "duration": 0.038032,
     "end_time": "2023-08-19T18:08:27.662987",
     "exception": false,
     "start_time": "2023-08-19T18:08:27.624955",
     "status": "completed"
    },
    "tags": []
   },
   "outputs": [
    {
     "data": {
      "text/html": [
       "<style>#sk-container-id-1 {color: black;background-color: white;}#sk-container-id-1 pre{padding: 0;}#sk-container-id-1 div.sk-toggleable {background-color: white;}#sk-container-id-1 label.sk-toggleable__label {cursor: pointer;display: block;width: 100%;margin-bottom: 0;padding: 0.3em;box-sizing: border-box;text-align: center;}#sk-container-id-1 label.sk-toggleable__label-arrow:before {content: \"▸\";float: left;margin-right: 0.25em;color: #696969;}#sk-container-id-1 label.sk-toggleable__label-arrow:hover:before {color: black;}#sk-container-id-1 div.sk-estimator:hover label.sk-toggleable__label-arrow:before {color: black;}#sk-container-id-1 div.sk-toggleable__content {max-height: 0;max-width: 0;overflow: hidden;text-align: left;background-color: #f0f8ff;}#sk-container-id-1 div.sk-toggleable__content pre {margin: 0.2em;color: black;border-radius: 0.25em;background-color: #f0f8ff;}#sk-container-id-1 input.sk-toggleable__control:checked~div.sk-toggleable__content {max-height: 200px;max-width: 100%;overflow: auto;}#sk-container-id-1 input.sk-toggleable__control:checked~label.sk-toggleable__label-arrow:before {content: \"▾\";}#sk-container-id-1 div.sk-estimator input.sk-toggleable__control:checked~label.sk-toggleable__label {background-color: #d4ebff;}#sk-container-id-1 div.sk-label input.sk-toggleable__control:checked~label.sk-toggleable__label {background-color: #d4ebff;}#sk-container-id-1 input.sk-hidden--visually {border: 0;clip: rect(1px 1px 1px 1px);clip: rect(1px, 1px, 1px, 1px);height: 1px;margin: -1px;overflow: hidden;padding: 0;position: absolute;width: 1px;}#sk-container-id-1 div.sk-estimator {font-family: monospace;background-color: #f0f8ff;border: 1px dotted black;border-radius: 0.25em;box-sizing: border-box;margin-bottom: 0.5em;}#sk-container-id-1 div.sk-estimator:hover {background-color: #d4ebff;}#sk-container-id-1 div.sk-parallel-item::after {content: \"\";width: 100%;border-bottom: 1px solid gray;flex-grow: 1;}#sk-container-id-1 div.sk-label:hover label.sk-toggleable__label {background-color: #d4ebff;}#sk-container-id-1 div.sk-serial::before {content: \"\";position: absolute;border-left: 1px solid gray;box-sizing: border-box;top: 0;bottom: 0;left: 50%;z-index: 0;}#sk-container-id-1 div.sk-serial {display: flex;flex-direction: column;align-items: center;background-color: white;padding-right: 0.2em;padding-left: 0.2em;position: relative;}#sk-container-id-1 div.sk-item {position: relative;z-index: 1;}#sk-container-id-1 div.sk-parallel {display: flex;align-items: stretch;justify-content: center;background-color: white;position: relative;}#sk-container-id-1 div.sk-item::before, #sk-container-id-1 div.sk-parallel-item::before {content: \"\";position: absolute;border-left: 1px solid gray;box-sizing: border-box;top: 0;bottom: 0;left: 50%;z-index: -1;}#sk-container-id-1 div.sk-parallel-item {display: flex;flex-direction: column;z-index: 1;position: relative;background-color: white;}#sk-container-id-1 div.sk-parallel-item:first-child::after {align-self: flex-end;width: 50%;}#sk-container-id-1 div.sk-parallel-item:last-child::after {align-self: flex-start;width: 50%;}#sk-container-id-1 div.sk-parallel-item:only-child::after {width: 0;}#sk-container-id-1 div.sk-dashed-wrapped {border: 1px dashed gray;margin: 0 0.4em 0.5em 0.4em;box-sizing: border-box;padding-bottom: 0.4em;background-color: white;}#sk-container-id-1 div.sk-label label {font-family: monospace;font-weight: bold;display: inline-block;line-height: 1.2em;}#sk-container-id-1 div.sk-label-container {text-align: center;}#sk-container-id-1 div.sk-container {/* jupyter's `normalize.less` sets `[hidden] { display: none; }` but bootstrap.min.css set `[hidden] { display: none !important; }` so we also need the `!important` here to be able to override the default hidden behavior on the sphinx rendered scikit-learn.org. See: https://github.com/scikit-learn/scikit-learn/issues/21755 */display: inline-block !important;position: relative;}#sk-container-id-1 div.sk-text-repr-fallback {display: none;}</style><div id=\"sk-container-id-1\" class=\"sk-top-container\"><div class=\"sk-text-repr-fallback\"><pre>CountVectorizer()</pre><b>In a Jupyter environment, please rerun this cell to show the HTML representation or trust the notebook. <br />On GitHub, the HTML representation is unable to render, please try loading this page with nbviewer.org.</b></div><div class=\"sk-container\" hidden><div class=\"sk-item\"><div class=\"sk-estimator sk-toggleable\"><input class=\"sk-toggleable__control sk-hidden--visually\" id=\"sk-estimator-id-1\" type=\"checkbox\" checked><label for=\"sk-estimator-id-1\" class=\"sk-toggleable__label sk-toggleable__label-arrow\">CountVectorizer</label><div class=\"sk-toggleable__content\"><pre>CountVectorizer()</pre></div></div></div></div></div>"
      ],
      "text/plain": [
       "CountVectorizer()"
      ]
     },
     "execution_count": 13,
     "metadata": {},
     "output_type": "execute_result"
    }
   ],
   "source": [
    "bog = CountVectorizer()\n",
    "bog"
   ]
  },
  {
   "cell_type": "code",
   "execution_count": 14,
   "id": "3cff8c4a",
   "metadata": {
    "execution": {
     "iopub.execute_input": "2023-08-19T18:08:27.699316Z",
     "iopub.status.busy": "2023-08-19T18:08:27.698850Z",
     "iopub.status.idle": "2023-08-19T18:08:28.176716Z",
     "shell.execute_reply": "2023-08-19T18:08:28.174983Z"
    },
    "papermill": {
     "duration": 0.50007,
     "end_time": "2023-08-19T18:08:28.179668",
     "exception": false,
     "start_time": "2023-08-19T18:08:27.679598",
     "status": "completed"
    },
    "tags": []
   },
   "outputs": [
    {
     "data": {
      "text/html": [
       "<style>#sk-container-id-2 {color: black;background-color: white;}#sk-container-id-2 pre{padding: 0;}#sk-container-id-2 div.sk-toggleable {background-color: white;}#sk-container-id-2 label.sk-toggleable__label {cursor: pointer;display: block;width: 100%;margin-bottom: 0;padding: 0.3em;box-sizing: border-box;text-align: center;}#sk-container-id-2 label.sk-toggleable__label-arrow:before {content: \"▸\";float: left;margin-right: 0.25em;color: #696969;}#sk-container-id-2 label.sk-toggleable__label-arrow:hover:before {color: black;}#sk-container-id-2 div.sk-estimator:hover label.sk-toggleable__label-arrow:before {color: black;}#sk-container-id-2 div.sk-toggleable__content {max-height: 0;max-width: 0;overflow: hidden;text-align: left;background-color: #f0f8ff;}#sk-container-id-2 div.sk-toggleable__content pre {margin: 0.2em;color: black;border-radius: 0.25em;background-color: #f0f8ff;}#sk-container-id-2 input.sk-toggleable__control:checked~div.sk-toggleable__content {max-height: 200px;max-width: 100%;overflow: auto;}#sk-container-id-2 input.sk-toggleable__control:checked~label.sk-toggleable__label-arrow:before {content: \"▾\";}#sk-container-id-2 div.sk-estimator input.sk-toggleable__control:checked~label.sk-toggleable__label {background-color: #d4ebff;}#sk-container-id-2 div.sk-label input.sk-toggleable__control:checked~label.sk-toggleable__label {background-color: #d4ebff;}#sk-container-id-2 input.sk-hidden--visually {border: 0;clip: rect(1px 1px 1px 1px);clip: rect(1px, 1px, 1px, 1px);height: 1px;margin: -1px;overflow: hidden;padding: 0;position: absolute;width: 1px;}#sk-container-id-2 div.sk-estimator {font-family: monospace;background-color: #f0f8ff;border: 1px dotted black;border-radius: 0.25em;box-sizing: border-box;margin-bottom: 0.5em;}#sk-container-id-2 div.sk-estimator:hover {background-color: #d4ebff;}#sk-container-id-2 div.sk-parallel-item::after {content: \"\";width: 100%;border-bottom: 1px solid gray;flex-grow: 1;}#sk-container-id-2 div.sk-label:hover label.sk-toggleable__label {background-color: #d4ebff;}#sk-container-id-2 div.sk-serial::before {content: \"\";position: absolute;border-left: 1px solid gray;box-sizing: border-box;top: 0;bottom: 0;left: 50%;z-index: 0;}#sk-container-id-2 div.sk-serial {display: flex;flex-direction: column;align-items: center;background-color: white;padding-right: 0.2em;padding-left: 0.2em;position: relative;}#sk-container-id-2 div.sk-item {position: relative;z-index: 1;}#sk-container-id-2 div.sk-parallel {display: flex;align-items: stretch;justify-content: center;background-color: white;position: relative;}#sk-container-id-2 div.sk-item::before, #sk-container-id-2 div.sk-parallel-item::before {content: \"\";position: absolute;border-left: 1px solid gray;box-sizing: border-box;top: 0;bottom: 0;left: 50%;z-index: -1;}#sk-container-id-2 div.sk-parallel-item {display: flex;flex-direction: column;z-index: 1;position: relative;background-color: white;}#sk-container-id-2 div.sk-parallel-item:first-child::after {align-self: flex-end;width: 50%;}#sk-container-id-2 div.sk-parallel-item:last-child::after {align-self: flex-start;width: 50%;}#sk-container-id-2 div.sk-parallel-item:only-child::after {width: 0;}#sk-container-id-2 div.sk-dashed-wrapped {border: 1px dashed gray;margin: 0 0.4em 0.5em 0.4em;box-sizing: border-box;padding-bottom: 0.4em;background-color: white;}#sk-container-id-2 div.sk-label label {font-family: monospace;font-weight: bold;display: inline-block;line-height: 1.2em;}#sk-container-id-2 div.sk-label-container {text-align: center;}#sk-container-id-2 div.sk-container {/* jupyter's `normalize.less` sets `[hidden] { display: none; }` but bootstrap.min.css set `[hidden] { display: none !important; }` so we also need the `!important` here to be able to override the default hidden behavior on the sphinx rendered scikit-learn.org. See: https://github.com/scikit-learn/scikit-learn/issues/21755 */display: inline-block !important;position: relative;}#sk-container-id-2 div.sk-text-repr-fallback {display: none;}</style><div id=\"sk-container-id-2\" class=\"sk-top-container\"><div class=\"sk-text-repr-fallback\"><pre>CountVectorizer()</pre><b>In a Jupyter environment, please rerun this cell to show the HTML representation or trust the notebook. <br />On GitHub, the HTML representation is unable to render, please try loading this page with nbviewer.org.</b></div><div class=\"sk-container\" hidden><div class=\"sk-item\"><div class=\"sk-estimator sk-toggleable\"><input class=\"sk-toggleable__control sk-hidden--visually\" id=\"sk-estimator-id-2\" type=\"checkbox\" checked><label for=\"sk-estimator-id-2\" class=\"sk-toggleable__label sk-toggleable__label-arrow\">CountVectorizer</label><div class=\"sk-toggleable__content\"><pre>CountVectorizer()</pre></div></div></div></div></div>"
      ],
      "text/plain": [
       "CountVectorizer()"
      ]
     },
     "execution_count": 14,
     "metadata": {},
     "output_type": "execute_result"
    }
   ],
   "source": [
    "bog.fit(X_train)"
   ]
  },
  {
   "cell_type": "code",
   "execution_count": 15,
   "id": "2f8154ea",
   "metadata": {
    "execution": {
     "iopub.execute_input": "2023-08-19T18:08:28.215414Z",
     "iopub.status.busy": "2023-08-19T18:08:28.214894Z",
     "iopub.status.idle": "2023-08-19T18:08:28.612083Z",
     "shell.execute_reply": "2023-08-19T18:08:28.610699Z"
    },
    "papermill": {
     "duration": 0.418885,
     "end_time": "2023-08-19T18:08:28.615432",
     "exception": false,
     "start_time": "2023-08-19T18:08:28.196547",
     "status": "completed"
    },
    "tags": []
   },
   "outputs": [],
   "source": [
    "X_train_encoded = bog.transform(X_train)\n",
    "X_test_encoded = bog.transform(X_test)"
   ]
  },
  {
   "cell_type": "code",
   "execution_count": 16,
   "id": "283865e9",
   "metadata": {
    "execution": {
     "iopub.execute_input": "2023-08-19T18:08:28.651670Z",
     "iopub.status.busy": "2023-08-19T18:08:28.651206Z",
     "iopub.status.idle": "2023-08-19T18:08:28.661034Z",
     "shell.execute_reply": "2023-08-19T18:08:28.659891Z"
    },
    "papermill": {
     "duration": 0.031408,
     "end_time": "2023-08-19T18:08:28.663710",
     "exception": false,
     "start_time": "2023-08-19T18:08:28.632302",
     "status": "completed"
    },
    "tags": []
   },
   "outputs": [
    {
     "data": {
      "text/plain": [
       "(<8269x34808 sparse matrix of type '<class 'numpy.int64'>'\n",
       " \twith 130417 stored elements in Compressed Sparse Row format>,\n",
       " <2068x34808 sparse matrix of type '<class 'numpy.int64'>'\n",
       " \twith 27389 stored elements in Compressed Sparse Row format>)"
      ]
     },
     "execution_count": 16,
     "metadata": {},
     "output_type": "execute_result"
    }
   ],
   "source": [
    "X_train_encoded, X_test_encoded"
   ]
  },
  {
   "cell_type": "markdown",
   "id": "89ff0e87",
   "metadata": {
    "papermill": {
     "duration": 0.015316,
     "end_time": "2023-08-19T18:08:28.695941",
     "exception": false,
     "start_time": "2023-08-19T18:08:28.680625",
     "status": "completed"
    },
    "tags": []
   },
   "source": [
    "# Using label encoding on language"
   ]
  },
  {
   "cell_type": "code",
   "execution_count": 17,
   "id": "a4f95c14",
   "metadata": {
    "execution": {
     "iopub.execute_input": "2023-08-19T18:08:28.730075Z",
     "iopub.status.busy": "2023-08-19T18:08:28.729517Z",
     "iopub.status.idle": "2023-08-19T18:08:28.740966Z",
     "shell.execute_reply": "2023-08-19T18:08:28.739240Z"
    },
    "papermill": {
     "duration": 0.031935,
     "end_time": "2023-08-19T18:08:28.743941",
     "exception": false,
     "start_time": "2023-08-19T18:08:28.712006",
     "status": "completed"
    },
    "tags": []
   },
   "outputs": [
    {
     "data": {
      "text/html": [
       "<style>#sk-container-id-3 {color: black;background-color: white;}#sk-container-id-3 pre{padding: 0;}#sk-container-id-3 div.sk-toggleable {background-color: white;}#sk-container-id-3 label.sk-toggleable__label {cursor: pointer;display: block;width: 100%;margin-bottom: 0;padding: 0.3em;box-sizing: border-box;text-align: center;}#sk-container-id-3 label.sk-toggleable__label-arrow:before {content: \"▸\";float: left;margin-right: 0.25em;color: #696969;}#sk-container-id-3 label.sk-toggleable__label-arrow:hover:before {color: black;}#sk-container-id-3 div.sk-estimator:hover label.sk-toggleable__label-arrow:before {color: black;}#sk-container-id-3 div.sk-toggleable__content {max-height: 0;max-width: 0;overflow: hidden;text-align: left;background-color: #f0f8ff;}#sk-container-id-3 div.sk-toggleable__content pre {margin: 0.2em;color: black;border-radius: 0.25em;background-color: #f0f8ff;}#sk-container-id-3 input.sk-toggleable__control:checked~div.sk-toggleable__content {max-height: 200px;max-width: 100%;overflow: auto;}#sk-container-id-3 input.sk-toggleable__control:checked~label.sk-toggleable__label-arrow:before {content: \"▾\";}#sk-container-id-3 div.sk-estimator input.sk-toggleable__control:checked~label.sk-toggleable__label {background-color: #d4ebff;}#sk-container-id-3 div.sk-label input.sk-toggleable__control:checked~label.sk-toggleable__label {background-color: #d4ebff;}#sk-container-id-3 input.sk-hidden--visually {border: 0;clip: rect(1px 1px 1px 1px);clip: rect(1px, 1px, 1px, 1px);height: 1px;margin: -1px;overflow: hidden;padding: 0;position: absolute;width: 1px;}#sk-container-id-3 div.sk-estimator {font-family: monospace;background-color: #f0f8ff;border: 1px dotted black;border-radius: 0.25em;box-sizing: border-box;margin-bottom: 0.5em;}#sk-container-id-3 div.sk-estimator:hover {background-color: #d4ebff;}#sk-container-id-3 div.sk-parallel-item::after {content: \"\";width: 100%;border-bottom: 1px solid gray;flex-grow: 1;}#sk-container-id-3 div.sk-label:hover label.sk-toggleable__label {background-color: #d4ebff;}#sk-container-id-3 div.sk-serial::before {content: \"\";position: absolute;border-left: 1px solid gray;box-sizing: border-box;top: 0;bottom: 0;left: 50%;z-index: 0;}#sk-container-id-3 div.sk-serial {display: flex;flex-direction: column;align-items: center;background-color: white;padding-right: 0.2em;padding-left: 0.2em;position: relative;}#sk-container-id-3 div.sk-item {position: relative;z-index: 1;}#sk-container-id-3 div.sk-parallel {display: flex;align-items: stretch;justify-content: center;background-color: white;position: relative;}#sk-container-id-3 div.sk-item::before, #sk-container-id-3 div.sk-parallel-item::before {content: \"\";position: absolute;border-left: 1px solid gray;box-sizing: border-box;top: 0;bottom: 0;left: 50%;z-index: -1;}#sk-container-id-3 div.sk-parallel-item {display: flex;flex-direction: column;z-index: 1;position: relative;background-color: white;}#sk-container-id-3 div.sk-parallel-item:first-child::after {align-self: flex-end;width: 50%;}#sk-container-id-3 div.sk-parallel-item:last-child::after {align-self: flex-start;width: 50%;}#sk-container-id-3 div.sk-parallel-item:only-child::after {width: 0;}#sk-container-id-3 div.sk-dashed-wrapped {border: 1px dashed gray;margin: 0 0.4em 0.5em 0.4em;box-sizing: border-box;padding-bottom: 0.4em;background-color: white;}#sk-container-id-3 div.sk-label label {font-family: monospace;font-weight: bold;display: inline-block;line-height: 1.2em;}#sk-container-id-3 div.sk-label-container {text-align: center;}#sk-container-id-3 div.sk-container {/* jupyter's `normalize.less` sets `[hidden] { display: none; }` but bootstrap.min.css set `[hidden] { display: none !important; }` so we also need the `!important` here to be able to override the default hidden behavior on the sphinx rendered scikit-learn.org. See: https://github.com/scikit-learn/scikit-learn/issues/21755 */display: inline-block !important;position: relative;}#sk-container-id-3 div.sk-text-repr-fallback {display: none;}</style><div id=\"sk-container-id-3\" class=\"sk-top-container\"><div class=\"sk-text-repr-fallback\"><pre>LabelEncoder()</pre><b>In a Jupyter environment, please rerun this cell to show the HTML representation or trust the notebook. <br />On GitHub, the HTML representation is unable to render, please try loading this page with nbviewer.org.</b></div><div class=\"sk-container\" hidden><div class=\"sk-item\"><div class=\"sk-estimator sk-toggleable\"><input class=\"sk-toggleable__control sk-hidden--visually\" id=\"sk-estimator-id-3\" type=\"checkbox\" checked><label for=\"sk-estimator-id-3\" class=\"sk-toggleable__label sk-toggleable__label-arrow\">LabelEncoder</label><div class=\"sk-toggleable__content\"><pre>LabelEncoder()</pre></div></div></div></div></div>"
      ],
      "text/plain": [
       "LabelEncoder()"
      ]
     },
     "execution_count": 17,
     "metadata": {},
     "output_type": "execute_result"
    }
   ],
   "source": [
    "le = LabelEncoder()\n",
    "le"
   ]
  },
  {
   "cell_type": "code",
   "execution_count": 18,
   "id": "405b84e3",
   "metadata": {
    "execution": {
     "iopub.execute_input": "2023-08-19T18:08:28.781656Z",
     "iopub.status.busy": "2023-08-19T18:08:28.780320Z",
     "iopub.status.idle": "2023-08-19T18:08:28.790029Z",
     "shell.execute_reply": "2023-08-19T18:08:28.789136Z"
    },
    "papermill": {
     "duration": 0.030703,
     "end_time": "2023-08-19T18:08:28.792570",
     "exception": false,
     "start_time": "2023-08-19T18:08:28.761867",
     "status": "completed"
    },
    "tags": []
   },
   "outputs": [
    {
     "data": {
      "text/html": [
       "<style>#sk-container-id-4 {color: black;background-color: white;}#sk-container-id-4 pre{padding: 0;}#sk-container-id-4 div.sk-toggleable {background-color: white;}#sk-container-id-4 label.sk-toggleable__label {cursor: pointer;display: block;width: 100%;margin-bottom: 0;padding: 0.3em;box-sizing: border-box;text-align: center;}#sk-container-id-4 label.sk-toggleable__label-arrow:before {content: \"▸\";float: left;margin-right: 0.25em;color: #696969;}#sk-container-id-4 label.sk-toggleable__label-arrow:hover:before {color: black;}#sk-container-id-4 div.sk-estimator:hover label.sk-toggleable__label-arrow:before {color: black;}#sk-container-id-4 div.sk-toggleable__content {max-height: 0;max-width: 0;overflow: hidden;text-align: left;background-color: #f0f8ff;}#sk-container-id-4 div.sk-toggleable__content pre {margin: 0.2em;color: black;border-radius: 0.25em;background-color: #f0f8ff;}#sk-container-id-4 input.sk-toggleable__control:checked~div.sk-toggleable__content {max-height: 200px;max-width: 100%;overflow: auto;}#sk-container-id-4 input.sk-toggleable__control:checked~label.sk-toggleable__label-arrow:before {content: \"▾\";}#sk-container-id-4 div.sk-estimator input.sk-toggleable__control:checked~label.sk-toggleable__label {background-color: #d4ebff;}#sk-container-id-4 div.sk-label input.sk-toggleable__control:checked~label.sk-toggleable__label {background-color: #d4ebff;}#sk-container-id-4 input.sk-hidden--visually {border: 0;clip: rect(1px 1px 1px 1px);clip: rect(1px, 1px, 1px, 1px);height: 1px;margin: -1px;overflow: hidden;padding: 0;position: absolute;width: 1px;}#sk-container-id-4 div.sk-estimator {font-family: monospace;background-color: #f0f8ff;border: 1px dotted black;border-radius: 0.25em;box-sizing: border-box;margin-bottom: 0.5em;}#sk-container-id-4 div.sk-estimator:hover {background-color: #d4ebff;}#sk-container-id-4 div.sk-parallel-item::after {content: \"\";width: 100%;border-bottom: 1px solid gray;flex-grow: 1;}#sk-container-id-4 div.sk-label:hover label.sk-toggleable__label {background-color: #d4ebff;}#sk-container-id-4 div.sk-serial::before {content: \"\";position: absolute;border-left: 1px solid gray;box-sizing: border-box;top: 0;bottom: 0;left: 50%;z-index: 0;}#sk-container-id-4 div.sk-serial {display: flex;flex-direction: column;align-items: center;background-color: white;padding-right: 0.2em;padding-left: 0.2em;position: relative;}#sk-container-id-4 div.sk-item {position: relative;z-index: 1;}#sk-container-id-4 div.sk-parallel {display: flex;align-items: stretch;justify-content: center;background-color: white;position: relative;}#sk-container-id-4 div.sk-item::before, #sk-container-id-4 div.sk-parallel-item::before {content: \"\";position: absolute;border-left: 1px solid gray;box-sizing: border-box;top: 0;bottom: 0;left: 50%;z-index: -1;}#sk-container-id-4 div.sk-parallel-item {display: flex;flex-direction: column;z-index: 1;position: relative;background-color: white;}#sk-container-id-4 div.sk-parallel-item:first-child::after {align-self: flex-end;width: 50%;}#sk-container-id-4 div.sk-parallel-item:last-child::after {align-self: flex-start;width: 50%;}#sk-container-id-4 div.sk-parallel-item:only-child::after {width: 0;}#sk-container-id-4 div.sk-dashed-wrapped {border: 1px dashed gray;margin: 0 0.4em 0.5em 0.4em;box-sizing: border-box;padding-bottom: 0.4em;background-color: white;}#sk-container-id-4 div.sk-label label {font-family: monospace;font-weight: bold;display: inline-block;line-height: 1.2em;}#sk-container-id-4 div.sk-label-container {text-align: center;}#sk-container-id-4 div.sk-container {/* jupyter's `normalize.less` sets `[hidden] { display: none; }` but bootstrap.min.css set `[hidden] { display: none !important; }` so we also need the `!important` here to be able to override the default hidden behavior on the sphinx rendered scikit-learn.org. See: https://github.com/scikit-learn/scikit-learn/issues/21755 */display: inline-block !important;position: relative;}#sk-container-id-4 div.sk-text-repr-fallback {display: none;}</style><div id=\"sk-container-id-4\" class=\"sk-top-container\"><div class=\"sk-text-repr-fallback\"><pre>LabelEncoder()</pre><b>In a Jupyter environment, please rerun this cell to show the HTML representation or trust the notebook. <br />On GitHub, the HTML representation is unable to render, please try loading this page with nbviewer.org.</b></div><div class=\"sk-container\" hidden><div class=\"sk-item\"><div class=\"sk-estimator sk-toggleable\"><input class=\"sk-toggleable__control sk-hidden--visually\" id=\"sk-estimator-id-4\" type=\"checkbox\" checked><label for=\"sk-estimator-id-4\" class=\"sk-toggleable__label sk-toggleable__label-arrow\">LabelEncoder</label><div class=\"sk-toggleable__content\"><pre>LabelEncoder()</pre></div></div></div></div></div>"
      ],
      "text/plain": [
       "LabelEncoder()"
      ]
     },
     "execution_count": 18,
     "metadata": {},
     "output_type": "execute_result"
    }
   ],
   "source": [
    "le.fit(y_train)"
   ]
  },
  {
   "cell_type": "code",
   "execution_count": 19,
   "id": "e7ae2b11",
   "metadata": {
    "execution": {
     "iopub.execute_input": "2023-08-19T18:08:28.826708Z",
     "iopub.status.busy": "2023-08-19T18:08:28.826249Z",
     "iopub.status.idle": "2023-08-19T18:08:28.835931Z",
     "shell.execute_reply": "2023-08-19T18:08:28.834160Z"
    },
    "papermill": {
     "duration": 0.030814,
     "end_time": "2023-08-19T18:08:28.839412",
     "exception": false,
     "start_time": "2023-08-19T18:08:28.808598",
     "status": "completed"
    },
    "tags": []
   },
   "outputs": [],
   "source": [
    "y_train_encoded = le.transform(y_train)\n",
    "y_test_encoded = le.transform(y_test)"
   ]
  },
  {
   "cell_type": "code",
   "execution_count": 20,
   "id": "ef9437ed",
   "metadata": {
    "execution": {
     "iopub.execute_input": "2023-08-19T18:08:28.875547Z",
     "iopub.status.busy": "2023-08-19T18:08:28.874681Z",
     "iopub.status.idle": "2023-08-19T18:08:28.884467Z",
     "shell.execute_reply": "2023-08-19T18:08:28.882892Z"
    },
    "papermill": {
     "duration": 0.031411,
     "end_time": "2023-08-19T18:08:28.887299",
     "exception": false,
     "start_time": "2023-08-19T18:08:28.855888",
     "status": "completed"
    },
    "tags": []
   },
   "outputs": [
    {
     "data": {
      "text/plain": [
       "(array([ 6,  4,  8, ..., 13,  3,  8]), array([12,  8,  3, ...,  2,  6,  4]))"
      ]
     },
     "execution_count": 20,
     "metadata": {},
     "output_type": "execute_result"
    }
   ],
   "source": [
    "y_train_encoded, y_test_encoded"
   ]
  },
  {
   "cell_type": "code",
   "execution_count": 21,
   "id": "592ac52d",
   "metadata": {
    "execution": {
     "iopub.execute_input": "2023-08-19T18:08:28.923701Z",
     "iopub.status.busy": "2023-08-19T18:08:28.923241Z",
     "iopub.status.idle": "2023-08-19T18:08:28.934733Z",
     "shell.execute_reply": "2023-08-19T18:08:28.933190Z"
    },
    "papermill": {
     "duration": 0.033376,
     "end_time": "2023-08-19T18:08:28.937614",
     "exception": false,
     "start_time": "2023-08-19T18:08:28.904238",
     "status": "completed"
    },
    "tags": []
   },
   "outputs": [
    {
     "data": {
      "text/plain": [
       "{0, 1, 2, 3, 4, 5, 6, 7, 8, 9, 10, 11, 12, 13, 14, 15, 16}"
      ]
     },
     "execution_count": 21,
     "metadata": {},
     "output_type": "execute_result"
    }
   ],
   "source": [
    "set(y_train_encoded)"
   ]
  },
  {
   "cell_type": "markdown",
   "id": "dcf4a7e4",
   "metadata": {
    "papermill": {
     "duration": 0.016809,
     "end_time": "2023-08-19T18:08:28.971372",
     "exception": false,
     "start_time": "2023-08-19T18:08:28.954563",
     "status": "completed"
    },
    "tags": []
   },
   "source": [
    "# Model"
   ]
  },
  {
   "cell_type": "code",
   "execution_count": 22,
   "id": "d04db3b2",
   "metadata": {
    "execution": {
     "iopub.execute_input": "2023-08-19T18:08:29.016277Z",
     "iopub.status.busy": "2023-08-19T18:08:29.015442Z",
     "iopub.status.idle": "2023-08-19T18:08:29.033448Z",
     "shell.execute_reply": "2023-08-19T18:08:29.031930Z"
    },
    "papermill": {
     "duration": 0.04583,
     "end_time": "2023-08-19T18:08:29.036581",
     "exception": false,
     "start_time": "2023-08-19T18:08:28.990751",
     "status": "completed"
    },
    "tags": []
   },
   "outputs": [],
   "source": [
    "from sklearn.naive_bayes import MultinomialNB"
   ]
  },
  {
   "cell_type": "code",
   "execution_count": 23,
   "id": "b94c5442",
   "metadata": {
    "execution": {
     "iopub.execute_input": "2023-08-19T18:08:29.073456Z",
     "iopub.status.busy": "2023-08-19T18:08:29.073015Z",
     "iopub.status.idle": "2023-08-19T18:08:29.081436Z",
     "shell.execute_reply": "2023-08-19T18:08:29.079977Z"
    },
    "papermill": {
     "duration": 0.030009,
     "end_time": "2023-08-19T18:08:29.083983",
     "exception": false,
     "start_time": "2023-08-19T18:08:29.053974",
     "status": "completed"
    },
    "tags": []
   },
   "outputs": [
    {
     "data": {
      "text/html": [
       "<style>#sk-container-id-5 {color: black;background-color: white;}#sk-container-id-5 pre{padding: 0;}#sk-container-id-5 div.sk-toggleable {background-color: white;}#sk-container-id-5 label.sk-toggleable__label {cursor: pointer;display: block;width: 100%;margin-bottom: 0;padding: 0.3em;box-sizing: border-box;text-align: center;}#sk-container-id-5 label.sk-toggleable__label-arrow:before {content: \"▸\";float: left;margin-right: 0.25em;color: #696969;}#sk-container-id-5 label.sk-toggleable__label-arrow:hover:before {color: black;}#sk-container-id-5 div.sk-estimator:hover label.sk-toggleable__label-arrow:before {color: black;}#sk-container-id-5 div.sk-toggleable__content {max-height: 0;max-width: 0;overflow: hidden;text-align: left;background-color: #f0f8ff;}#sk-container-id-5 div.sk-toggleable__content pre {margin: 0.2em;color: black;border-radius: 0.25em;background-color: #f0f8ff;}#sk-container-id-5 input.sk-toggleable__control:checked~div.sk-toggleable__content {max-height: 200px;max-width: 100%;overflow: auto;}#sk-container-id-5 input.sk-toggleable__control:checked~label.sk-toggleable__label-arrow:before {content: \"▾\";}#sk-container-id-5 div.sk-estimator input.sk-toggleable__control:checked~label.sk-toggleable__label {background-color: #d4ebff;}#sk-container-id-5 div.sk-label input.sk-toggleable__control:checked~label.sk-toggleable__label {background-color: #d4ebff;}#sk-container-id-5 input.sk-hidden--visually {border: 0;clip: rect(1px 1px 1px 1px);clip: rect(1px, 1px, 1px, 1px);height: 1px;margin: -1px;overflow: hidden;padding: 0;position: absolute;width: 1px;}#sk-container-id-5 div.sk-estimator {font-family: monospace;background-color: #f0f8ff;border: 1px dotted black;border-radius: 0.25em;box-sizing: border-box;margin-bottom: 0.5em;}#sk-container-id-5 div.sk-estimator:hover {background-color: #d4ebff;}#sk-container-id-5 div.sk-parallel-item::after {content: \"\";width: 100%;border-bottom: 1px solid gray;flex-grow: 1;}#sk-container-id-5 div.sk-label:hover label.sk-toggleable__label {background-color: #d4ebff;}#sk-container-id-5 div.sk-serial::before {content: \"\";position: absolute;border-left: 1px solid gray;box-sizing: border-box;top: 0;bottom: 0;left: 50%;z-index: 0;}#sk-container-id-5 div.sk-serial {display: flex;flex-direction: column;align-items: center;background-color: white;padding-right: 0.2em;padding-left: 0.2em;position: relative;}#sk-container-id-5 div.sk-item {position: relative;z-index: 1;}#sk-container-id-5 div.sk-parallel {display: flex;align-items: stretch;justify-content: center;background-color: white;position: relative;}#sk-container-id-5 div.sk-item::before, #sk-container-id-5 div.sk-parallel-item::before {content: \"\";position: absolute;border-left: 1px solid gray;box-sizing: border-box;top: 0;bottom: 0;left: 50%;z-index: -1;}#sk-container-id-5 div.sk-parallel-item {display: flex;flex-direction: column;z-index: 1;position: relative;background-color: white;}#sk-container-id-5 div.sk-parallel-item:first-child::after {align-self: flex-end;width: 50%;}#sk-container-id-5 div.sk-parallel-item:last-child::after {align-self: flex-start;width: 50%;}#sk-container-id-5 div.sk-parallel-item:only-child::after {width: 0;}#sk-container-id-5 div.sk-dashed-wrapped {border: 1px dashed gray;margin: 0 0.4em 0.5em 0.4em;box-sizing: border-box;padding-bottom: 0.4em;background-color: white;}#sk-container-id-5 div.sk-label label {font-family: monospace;font-weight: bold;display: inline-block;line-height: 1.2em;}#sk-container-id-5 div.sk-label-container {text-align: center;}#sk-container-id-5 div.sk-container {/* jupyter's `normalize.less` sets `[hidden] { display: none; }` but bootstrap.min.css set `[hidden] { display: none !important; }` so we also need the `!important` here to be able to override the default hidden behavior on the sphinx rendered scikit-learn.org. See: https://github.com/scikit-learn/scikit-learn/issues/21755 */display: inline-block !important;position: relative;}#sk-container-id-5 div.sk-text-repr-fallback {display: none;}</style><div id=\"sk-container-id-5\" class=\"sk-top-container\"><div class=\"sk-text-repr-fallback\"><pre>MultinomialNB()</pre><b>In a Jupyter environment, please rerun this cell to show the HTML representation or trust the notebook. <br />On GitHub, the HTML representation is unable to render, please try loading this page with nbviewer.org.</b></div><div class=\"sk-container\" hidden><div class=\"sk-item\"><div class=\"sk-estimator sk-toggleable\"><input class=\"sk-toggleable__control sk-hidden--visually\" id=\"sk-estimator-id-5\" type=\"checkbox\" checked><label for=\"sk-estimator-id-5\" class=\"sk-toggleable__label sk-toggleable__label-arrow\">MultinomialNB</label><div class=\"sk-toggleable__content\"><pre>MultinomialNB()</pre></div></div></div></div></div>"
      ],
      "text/plain": [
       "MultinomialNB()"
      ]
     },
     "execution_count": 23,
     "metadata": {},
     "output_type": "execute_result"
    }
   ],
   "source": [
    "model = MultinomialNB()\n",
    "model"
   ]
  },
  {
   "cell_type": "code",
   "execution_count": 24,
   "id": "9b0d9420",
   "metadata": {
    "execution": {
     "iopub.execute_input": "2023-08-19T18:08:29.121297Z",
     "iopub.status.busy": "2023-08-19T18:08:29.120114Z",
     "iopub.status.idle": "2023-08-19T18:08:29.178875Z",
     "shell.execute_reply": "2023-08-19T18:08:29.177643Z"
    },
    "papermill": {
     "duration": 0.080473,
     "end_time": "2023-08-19T18:08:29.181759",
     "exception": false,
     "start_time": "2023-08-19T18:08:29.101286",
     "status": "completed"
    },
    "tags": []
   },
   "outputs": [
    {
     "data": {
      "text/html": [
       "<style>#sk-container-id-6 {color: black;background-color: white;}#sk-container-id-6 pre{padding: 0;}#sk-container-id-6 div.sk-toggleable {background-color: white;}#sk-container-id-6 label.sk-toggleable__label {cursor: pointer;display: block;width: 100%;margin-bottom: 0;padding: 0.3em;box-sizing: border-box;text-align: center;}#sk-container-id-6 label.sk-toggleable__label-arrow:before {content: \"▸\";float: left;margin-right: 0.25em;color: #696969;}#sk-container-id-6 label.sk-toggleable__label-arrow:hover:before {color: black;}#sk-container-id-6 div.sk-estimator:hover label.sk-toggleable__label-arrow:before {color: black;}#sk-container-id-6 div.sk-toggleable__content {max-height: 0;max-width: 0;overflow: hidden;text-align: left;background-color: #f0f8ff;}#sk-container-id-6 div.sk-toggleable__content pre {margin: 0.2em;color: black;border-radius: 0.25em;background-color: #f0f8ff;}#sk-container-id-6 input.sk-toggleable__control:checked~div.sk-toggleable__content {max-height: 200px;max-width: 100%;overflow: auto;}#sk-container-id-6 input.sk-toggleable__control:checked~label.sk-toggleable__label-arrow:before {content: \"▾\";}#sk-container-id-6 div.sk-estimator input.sk-toggleable__control:checked~label.sk-toggleable__label {background-color: #d4ebff;}#sk-container-id-6 div.sk-label input.sk-toggleable__control:checked~label.sk-toggleable__label {background-color: #d4ebff;}#sk-container-id-6 input.sk-hidden--visually {border: 0;clip: rect(1px 1px 1px 1px);clip: rect(1px, 1px, 1px, 1px);height: 1px;margin: -1px;overflow: hidden;padding: 0;position: absolute;width: 1px;}#sk-container-id-6 div.sk-estimator {font-family: monospace;background-color: #f0f8ff;border: 1px dotted black;border-radius: 0.25em;box-sizing: border-box;margin-bottom: 0.5em;}#sk-container-id-6 div.sk-estimator:hover {background-color: #d4ebff;}#sk-container-id-6 div.sk-parallel-item::after {content: \"\";width: 100%;border-bottom: 1px solid gray;flex-grow: 1;}#sk-container-id-6 div.sk-label:hover label.sk-toggleable__label {background-color: #d4ebff;}#sk-container-id-6 div.sk-serial::before {content: \"\";position: absolute;border-left: 1px solid gray;box-sizing: border-box;top: 0;bottom: 0;left: 50%;z-index: 0;}#sk-container-id-6 div.sk-serial {display: flex;flex-direction: column;align-items: center;background-color: white;padding-right: 0.2em;padding-left: 0.2em;position: relative;}#sk-container-id-6 div.sk-item {position: relative;z-index: 1;}#sk-container-id-6 div.sk-parallel {display: flex;align-items: stretch;justify-content: center;background-color: white;position: relative;}#sk-container-id-6 div.sk-item::before, #sk-container-id-6 div.sk-parallel-item::before {content: \"\";position: absolute;border-left: 1px solid gray;box-sizing: border-box;top: 0;bottom: 0;left: 50%;z-index: -1;}#sk-container-id-6 div.sk-parallel-item {display: flex;flex-direction: column;z-index: 1;position: relative;background-color: white;}#sk-container-id-6 div.sk-parallel-item:first-child::after {align-self: flex-end;width: 50%;}#sk-container-id-6 div.sk-parallel-item:last-child::after {align-self: flex-start;width: 50%;}#sk-container-id-6 div.sk-parallel-item:only-child::after {width: 0;}#sk-container-id-6 div.sk-dashed-wrapped {border: 1px dashed gray;margin: 0 0.4em 0.5em 0.4em;box-sizing: border-box;padding-bottom: 0.4em;background-color: white;}#sk-container-id-6 div.sk-label label {font-family: monospace;font-weight: bold;display: inline-block;line-height: 1.2em;}#sk-container-id-6 div.sk-label-container {text-align: center;}#sk-container-id-6 div.sk-container {/* jupyter's `normalize.less` sets `[hidden] { display: none; }` but bootstrap.min.css set `[hidden] { display: none !important; }` so we also need the `!important` here to be able to override the default hidden behavior on the sphinx rendered scikit-learn.org. See: https://github.com/scikit-learn/scikit-learn/issues/21755 */display: inline-block !important;position: relative;}#sk-container-id-6 div.sk-text-repr-fallback {display: none;}</style><div id=\"sk-container-id-6\" class=\"sk-top-container\"><div class=\"sk-text-repr-fallback\"><pre>MultinomialNB()</pre><b>In a Jupyter environment, please rerun this cell to show the HTML representation or trust the notebook. <br />On GitHub, the HTML representation is unable to render, please try loading this page with nbviewer.org.</b></div><div class=\"sk-container\" hidden><div class=\"sk-item\"><div class=\"sk-estimator sk-toggleable\"><input class=\"sk-toggleable__control sk-hidden--visually\" id=\"sk-estimator-id-6\" type=\"checkbox\" checked><label for=\"sk-estimator-id-6\" class=\"sk-toggleable__label sk-toggleable__label-arrow\">MultinomialNB</label><div class=\"sk-toggleable__content\"><pre>MultinomialNB()</pre></div></div></div></div></div>"
      ],
      "text/plain": [
       "MultinomialNB()"
      ]
     },
     "execution_count": 24,
     "metadata": {},
     "output_type": "execute_result"
    }
   ],
   "source": [
    "model.fit(X_train_encoded, y_train_encoded)"
   ]
  },
  {
   "cell_type": "code",
   "execution_count": 25,
   "id": "fd8d66ab",
   "metadata": {
    "execution": {
     "iopub.execute_input": "2023-08-19T18:08:29.219352Z",
     "iopub.status.busy": "2023-08-19T18:08:29.218900Z",
     "iopub.status.idle": "2023-08-19T18:08:29.231141Z",
     "shell.execute_reply": "2023-08-19T18:08:29.229891Z"
    },
    "papermill": {
     "duration": 0.034717,
     "end_time": "2023-08-19T18:08:29.234568",
     "exception": false,
     "start_time": "2023-08-19T18:08:29.199851",
     "status": "completed"
    },
    "tags": []
   },
   "outputs": [
    {
     "data": {
      "text/plain": [
       "array([12,  8,  3, ...,  2,  6,  4])"
      ]
     },
     "execution_count": 25,
     "metadata": {},
     "output_type": "execute_result"
    }
   ],
   "source": [
    "y_preds = model.predict(X_test_encoded)\n",
    "y_preds"
   ]
  },
  {
   "cell_type": "code",
   "execution_count": 26,
   "id": "825b22f9",
   "metadata": {
    "execution": {
     "iopub.execute_input": "2023-08-19T18:08:29.271388Z",
     "iopub.status.busy": "2023-08-19T18:08:29.270964Z",
     "iopub.status.idle": "2023-08-19T18:08:29.278481Z",
     "shell.execute_reply": "2023-08-19T18:08:29.277163Z"
    },
    "papermill": {
     "duration": 0.029026,
     "end_time": "2023-08-19T18:08:29.281107",
     "exception": false,
     "start_time": "2023-08-19T18:08:29.252081",
     "status": "completed"
    },
    "tags": []
   },
   "outputs": [
    {
     "data": {
      "text/plain": [
       "((2068,), (2068,))"
      ]
     },
     "execution_count": 26,
     "metadata": {},
     "output_type": "execute_result"
    }
   ],
   "source": [
    "y_preds.shape, y_test_encoded.shape"
   ]
  },
  {
   "cell_type": "code",
   "execution_count": 27,
   "id": "94eef323",
   "metadata": {
    "execution": {
     "iopub.execute_input": "2023-08-19T18:08:29.318460Z",
     "iopub.status.busy": "2023-08-19T18:08:29.317989Z",
     "iopub.status.idle": "2023-08-19T18:08:29.324986Z",
     "shell.execute_reply": "2023-08-19T18:08:29.323686Z"
    },
    "papermill": {
     "duration": 0.028878,
     "end_time": "2023-08-19T18:08:29.327573",
     "exception": false,
     "start_time": "2023-08-19T18:08:29.298695",
     "status": "completed"
    },
    "tags": []
   },
   "outputs": [],
   "source": [
    "def accuracy(y_test, y_preds):\n",
    "    return{\"Accuracy\": [sum(y_preds==y_test)/len(y_preds)*100]}"
   ]
  },
  {
   "cell_type": "code",
   "execution_count": 28,
   "id": "941e3cd4",
   "metadata": {
    "execution": {
     "iopub.execute_input": "2023-08-19T18:08:29.366972Z",
     "iopub.status.busy": "2023-08-19T18:08:29.366458Z",
     "iopub.status.idle": "2023-08-19T18:08:29.374343Z",
     "shell.execute_reply": "2023-08-19T18:08:29.373412Z"
    },
    "papermill": {
     "duration": 0.030372,
     "end_time": "2023-08-19T18:08:29.376706",
     "exception": false,
     "start_time": "2023-08-19T18:08:29.346334",
     "status": "completed"
    },
    "tags": []
   },
   "outputs": [
    {
     "data": {
      "text/plain": [
       "{'Accuracy': [98.25918762088975]}"
      ]
     },
     "execution_count": 28,
     "metadata": {},
     "output_type": "execute_result"
    }
   ],
   "source": [
    "acc = accuracy(y_test_encoded, y_preds)\n",
    "acc"
   ]
  },
  {
   "cell_type": "code",
   "execution_count": 29,
   "id": "a5bd4728",
   "metadata": {
    "execution": {
     "iopub.execute_input": "2023-08-19T18:08:29.415704Z",
     "iopub.status.busy": "2023-08-19T18:08:29.414637Z",
     "iopub.status.idle": "2023-08-19T18:08:29.423431Z",
     "shell.execute_reply": "2023-08-19T18:08:29.422325Z"
    },
    "papermill": {
     "duration": 0.03069,
     "end_time": "2023-08-19T18:08:29.425829",
     "exception": false,
     "start_time": "2023-08-19T18:08:29.395139",
     "status": "completed"
    },
    "tags": []
   },
   "outputs": [
    {
     "data": {
      "text/plain": [
       "array(['Arabic', 'Danish', 'Dutch', 'English', 'French', 'German',\n",
       "       'Greek', 'Hindi', 'Italian', 'Kannada', 'Malayalam', 'Portugeese',\n",
       "       'Russian', 'Spanish', 'Sweedish', 'Tamil', 'Turkish'], dtype=object)"
      ]
     },
     "execution_count": 29,
     "metadata": {},
     "output_type": "execute_result"
    }
   ],
   "source": [
    "labels = le.classes_\n",
    "labels"
   ]
  },
  {
   "cell_type": "code",
   "execution_count": 30,
   "id": "16b669ba",
   "metadata": {
    "execution": {
     "iopub.execute_input": "2023-08-19T18:08:29.463260Z",
     "iopub.status.busy": "2023-08-19T18:08:29.462784Z",
     "iopub.status.idle": "2023-08-19T18:08:29.468232Z",
     "shell.execute_reply": "2023-08-19T18:08:29.467084Z"
    },
    "papermill": {
     "duration": 0.027149,
     "end_time": "2023-08-19T18:08:29.470660",
     "exception": false,
     "start_time": "2023-08-19T18:08:29.443511",
     "status": "completed"
    },
    "tags": []
   },
   "outputs": [],
   "source": [
    "from sklearn.metrics import classification_report"
   ]
  },
  {
   "cell_type": "code",
   "execution_count": 31,
   "id": "5b98e881",
   "metadata": {
    "execution": {
     "iopub.execute_input": "2023-08-19T18:08:29.511870Z",
     "iopub.status.busy": "2023-08-19T18:08:29.510762Z",
     "iopub.status.idle": "2023-08-19T18:08:29.535317Z",
     "shell.execute_reply": "2023-08-19T18:08:29.533859Z"
    },
    "papermill": {
     "duration": 0.049847,
     "end_time": "2023-08-19T18:08:29.538297",
     "exception": false,
     "start_time": "2023-08-19T18:08:29.488450",
     "status": "completed"
    },
    "tags": []
   },
   "outputs": [
    {
     "name": "stdout",
     "output_type": "stream",
     "text": [
      "              precision    recall  f1-score   support\n",
      "\n",
      "      Arabic       1.00      0.98      0.99       106\n",
      "      Danish       0.97      0.96      0.97        73\n",
      "       Dutch       0.99      0.97      0.98       111\n",
      "     English       0.92      1.00      0.96       291\n",
      "      French       0.99      0.99      0.99       219\n",
      "      German       1.00      0.97      0.98        93\n",
      "       Greek       1.00      0.97      0.99        68\n",
      "       Hindi       1.00      1.00      1.00        10\n",
      "     Italian       1.00      0.99      1.00       145\n",
      "     Kannada       1.00      1.00      1.00        66\n",
      "   Malayalam       1.00      0.98      0.99       121\n",
      "  Portugeese       0.99      0.98      0.99       144\n",
      "     Russian       1.00      0.99      0.99       136\n",
      "     Spanish       0.99      0.97      0.98       160\n",
      "    Sweedish       1.00      0.98      0.99       133\n",
      "       Tamil       1.00      0.99      0.99        87\n",
      "     Turkish       1.00      0.94      0.97       105\n",
      "\n",
      "    accuracy                           0.98      2068\n",
      "   macro avg       0.99      0.98      0.99      2068\n",
      "weighted avg       0.98      0.98      0.98      2068\n",
      "\n"
     ]
    }
   ],
   "source": [
    "print(classification_report(y_test_encoded, y_preds, target_names=labels))"
   ]
  },
  {
   "cell_type": "code",
   "execution_count": 32,
   "id": "f8b590f6",
   "metadata": {
    "execution": {
     "iopub.execute_input": "2023-08-19T18:08:29.581745Z",
     "iopub.status.busy": "2023-08-19T18:08:29.581235Z",
     "iopub.status.idle": "2023-08-19T18:08:29.594485Z",
     "shell.execute_reply": "2023-08-19T18:08:29.592788Z"
    },
    "papermill": {
     "duration": 0.039059,
     "end_time": "2023-08-19T18:08:29.598035",
     "exception": false,
     "start_time": "2023-08-19T18:08:29.558976",
     "status": "completed"
    },
    "tags": []
   },
   "outputs": [
    {
     "data": {
      "text/plain": [
       "('Italian',\n",
       " \"come quando ci siamo fermati dov'eravamo e devi ripeterlo perché qual è il suono con cui qualcuno sbaglia.\",\n",
       " 'Italian')"
      ]
     },
     "execution_count": 32,
     "metadata": {},
     "output_type": "execute_result"
    }
   ],
   "source": [
    "test_index = 200\n",
    "sample_text = X_test[test_index]\n",
    "sample_label = y_test[test_index]\n",
    "sample_text_encoded = bog.transform([sample_text])\n",
    "y_sample_prediction = model.predict(sample_text_encoded)\n",
    "labels[y_sample_prediction[0]], sample_text, sample_label"
   ]
  },
  {
   "cell_type": "code",
   "execution_count": 33,
   "id": "c47ef63f",
   "metadata": {
    "execution": {
     "iopub.execute_input": "2023-08-19T18:08:29.640127Z",
     "iopub.status.busy": "2023-08-19T18:08:29.639370Z",
     "iopub.status.idle": "2023-08-19T18:08:29.652389Z",
     "shell.execute_reply": "2023-08-19T18:08:29.650909Z"
    },
    "papermill": {
     "duration": 0.037584,
     "end_time": "2023-08-19T18:08:29.655305",
     "exception": false,
     "start_time": "2023-08-19T18:08:29.617721",
     "status": "completed"
    },
    "tags": []
   },
   "outputs": [
    {
     "name": "stdout",
     "output_type": "stream",
     "text": [
      "prediction: Italian---text: चलो बाहर जाकर खाना खाते हैं\n",
      "prediction: French---text: C'est un chien\n"
     ]
    }
   ],
   "source": [
    "sample_hindi_text = 'चलो बाहर जाकर खाना खाते हैं'\n",
    "sample_french_text = \"C'est un chien\"\n",
    "sample_hindi_encoded = bog.transform([sample_hindi_text])\n",
    "sample_french_encoded = bog.transform([sample_french_text])\n",
    "\n",
    "y_hindi_prediction = model.predict(sample_text_encoded)\n",
    "y_french_prediction = model.predict(sample_french_encoded)\n",
    "print(f\"prediction: {labels[y_hindi_prediction][0]}---text: {sample_hindi_text}\")\n",
    "print(f\"prediction: {labels[y_french_prediction][0]}---text: {sample_french_text}\")"
   ]
  },
  {
   "cell_type": "code",
   "execution_count": 34,
   "id": "e6d796a5",
   "metadata": {
    "execution": {
     "iopub.execute_input": "2023-08-19T18:08:29.701597Z",
     "iopub.status.busy": "2023-08-19T18:08:29.701105Z",
     "iopub.status.idle": "2023-08-19T18:08:29.717183Z",
     "shell.execute_reply": "2023-08-19T18:08:29.715873Z"
    },
    "papermill": {
     "duration": 0.045457,
     "end_time": "2023-08-19T18:08:29.720619",
     "exception": false,
     "start_time": "2023-08-19T18:08:29.675162",
     "status": "completed"
    },
    "tags": []
   },
   "outputs": [
    {
     "data": {
      "text/html": [
       "<div>\n",
       "<style scoped>\n",
       "    .dataframe tbody tr th:only-of-type {\n",
       "        vertical-align: middle;\n",
       "    }\n",
       "\n",
       "    .dataframe tbody tr th {\n",
       "        vertical-align: top;\n",
       "    }\n",
       "\n",
       "    .dataframe thead th {\n",
       "        text-align: right;\n",
       "    }\n",
       "</style>\n",
       "<table border=\"1\" class=\"dataframe\">\n",
       "  <thead>\n",
       "    <tr style=\"text-align: right;\">\n",
       "      <th></th>\n",
       "      <th>Accuracy</th>\n",
       "    </tr>\n",
       "  </thead>\n",
       "  <tbody>\n",
       "    <tr>\n",
       "      <th>0</th>\n",
       "      <td>98.259188</td>\n",
       "    </tr>\n",
       "  </tbody>\n",
       "</table>\n",
       "</div>"
      ],
      "text/plain": [
       "    Accuracy\n",
       "0  98.259188"
      ]
     },
     "execution_count": 34,
     "metadata": {},
     "output_type": "execute_result"
    }
   ],
   "source": [
    "final_accuracy = pd.DataFrame.from_dict(acc)\n",
    "final_accuracy"
   ]
  },
  {
   "cell_type": "code",
   "execution_count": 35,
   "id": "25b48b33",
   "metadata": {
    "execution": {
     "iopub.execute_input": "2023-08-19T18:08:29.772520Z",
     "iopub.status.busy": "2023-08-19T18:08:29.771475Z",
     "iopub.status.idle": "2023-08-19T18:08:29.784748Z",
     "shell.execute_reply": "2023-08-19T18:08:29.783367Z"
    },
    "papermill": {
     "duration": 0.04253,
     "end_time": "2023-08-19T18:08:29.789393",
     "exception": false,
     "start_time": "2023-08-19T18:08:29.746863",
     "status": "completed"
    },
    "tags": []
   },
   "outputs": [],
   "source": [
    "final_accuracy.to_csv(\"/kaggle/working/accuracy.csv\",index=False)"
   ]
  },
  {
   "cell_type": "code",
   "execution_count": null,
   "id": "54122ff1",
   "metadata": {
    "papermill": {
     "duration": 0.019146,
     "end_time": "2023-08-19T18:08:29.827869",
     "exception": false,
     "start_time": "2023-08-19T18:08:29.808723",
     "status": "completed"
    },
    "tags": []
   },
   "outputs": [],
   "source": []
  }
 ],
 "metadata": {
  "kernelspec": {
   "display_name": "Python 3",
   "language": "python",
   "name": "python3"
  },
  "language_info": {
   "codemirror_mode": {
    "name": "ipython",
    "version": 3
   },
   "file_extension": ".py",
   "mimetype": "text/x-python",
   "name": "python",
   "nbconvert_exporter": "python",
   "pygments_lexer": "ipython3",
   "version": "3.10.12"
  },
  "papermill": {
   "default_parameters": {},
   "duration": 20.153421,
   "end_time": "2023-08-19T18:08:31.175931",
   "environment_variables": {},
   "exception": null,
   "input_path": "__notebook__.ipynb",
   "output_path": "__notebook__.ipynb",
   "parameters": {},
   "start_time": "2023-08-19T18:08:11.022510",
   "version": "2.4.0"
  }
 },
 "nbformat": 4,
 "nbformat_minor": 5
}
